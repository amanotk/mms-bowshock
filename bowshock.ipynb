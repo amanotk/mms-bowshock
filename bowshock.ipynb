{
 "cells": [
  {
   "cell_type": "code",
   "execution_count": null,
   "metadata": {},
   "outputs": [],
   "source": [
    "import plotly.express as px\n",
    "import plotly.io as pio\n",
    "pio.renderers.default = 'notebook'\n",
    "\n",
    "import plotly\n",
    "from IPython.display import display, HTML\n",
    "\n",
    "plotly.offline.init_notebook_mode()\n",
    "display(HTML(\n",
    "    '<script type=\"text/javascript\" async src=\"https://cdnjs.cloudflare.com/ajax/libs/mathjax/2.7.1/MathJax.js?config=TeX-MML-AM_SVG\"></script>'\n",
    "))\n",
    "\n",
    "import pandas as pd"
   ]
  },
  {
   "cell_type": "code",
   "execution_count": null,
   "metadata": {},
   "outputs": [],
   "source": [
    "df = pd.read_csv(\"bowshock.csv\", header=0, skiprows=0).drop_duplicates()\n",
    "df.rename(columns={'# ID' : 'ID'}, inplace=True)"
   ]
  },
  {
   "cell_type": "code",
   "execution_count": null,
   "metadata": {},
   "outputs": [],
   "source": [
    "sc = 1\n",
    "Nevents = df.shape[0]\n",
    "cos_tbn_avg = df[\"cos_tbn_avg\"]\n",
    "cos_tbn_err = df[\"cos_tbn_err\"]\n",
    "Ma_nif_i_avg = df[\"Ma_nif_i_avg\"]\n",
    "Ma_nif_i_err = df[\"Ma_nif_i_err\"]\n",
    "\n",
    "cost = np.linspace(-1.0, +1.0, 51)\n",
    "Ma1 = 0.5 * np.sqrt(1836)\n",
    "Ma2 = 1.0 * np.sqrt(1836)\n",
    "\n",
    "title = \"MMS{:1d}: ({:d} Events)\".format(sc, Nevents)\n",
    "fig = px.scatter(\n",
    "    df,\n",
    "    x=\"cos_tbn_avg\",\n",
    "    error_x=\"cos_tbn_err\",\n",
    "    y=\"Ma_nif_i_avg\",\n",
    "    error_y=\"Ma_nif_i_err\",\n",
    "    hover_name=\"ID\",\n",
    "    width=800,\n",
    "    height=600,\n",
    "    range_y=[0, 25],\n",
    "    range_x=[-1, +1],\n",
    ")\n",
    "fig.add_scatter(\n",
    "    x=cost,\n",
    "    y=np.abs(Ma1 * cost),\n",
    "    mode=\"lines\",\n",
    "    line=dict(color=\"black\", dash=\"dash\"),\n",
    "    hoverinfo=\"none\",\n",
    ")\n",
    "fig.add_scatter(\n",
    "    x=cost,\n",
    "    y=np.abs(Ma2 * cost),\n",
    "    mode=\"lines\",\n",
    "    line=dict(color=\"black\", dash=\"dot\"),\n",
    "    hoverinfo=\"none\",\n",
    ")\n",
    "\n",
    "fig.update_layout(\n",
    "    title=dict(text=title, x=0.5),\n",
    "    xaxis_title=r\"$\\cos \\theta_{Bn}$\",\n",
    "    yaxis_title=r\"$M_{\\rm A}$\",\n",
    "    showlegend=False,\n",
    ")\n",
    "fig.update_xaxes(showline=True, linewidth=1, linecolor=\"black\", mirror=True)\n",
    "fig.update_yaxes(showline=True, linewidth=1, linecolor=\"black\", mirror=True)\n",
    "fig.update_xaxes(zeroline=True, zerolinewidth=0.5, zerolinecolor=\"gray\")\n",
    "fig.update_xaxes(showgrid=True, gridwidth=0.5, gridcolor=\"gray\")\n",
    "fig.update_yaxes(showgrid=True, gridwidth=0.5, gridcolor=\"gray\")\n",
    "fig.update_xaxes(minor=dict(dtick=0.1, ticklen=2, tickcolor=\"black\", showgrid=False))\n",
    "fig.update_yaxes(minor=dict(dtick=1.0, ticklen=2, tickcolor=\"black\", showgrid=False))\n",
    "fig.update_traces(\n",
    "    marker_size=5,\n",
    "    marker_color=\"black\",\n",
    "    error_x_thickness=1,\n",
    "    error_y_thickness=1,\n",
    "    selector=dict(mode=\"markers\"),\n",
    ")\n",
    "fig.update_traces(\n",
    "    hovertemplate=\"ID = %{hovertext}<br>cosθ = %{x}<br>M<sub>A</sub> = %{y}\",\n",
    "    selector=dict(mode=\"markers\"),\n",
    ")\n",
    "fig.show()\n",
    "\n",
    "# save in html\n",
    "fig.write_html('bowshock.html', include_mathjax='cdn')"
   ]
  },
  {
   "cell_type": "code",
   "execution_count": null,
   "metadata": {},
   "outputs": [],
   "source": []
  }
 ],
 "metadata": {
  "kernelspec": {
   "display_name": "base",
   "language": "python",
   "name": "python3"
  },
  "language_info": {
   "codemirror_mode": {
    "name": "ipython",
    "version": 3
   },
   "file_extension": ".py",
   "mimetype": "text/x-python",
   "name": "python",
   "nbconvert_exporter": "python",
   "pygments_lexer": "ipython3",
   "version": "3.9.13"
  }
 },
 "nbformat": 4,
 "nbformat_minor": 2
}
